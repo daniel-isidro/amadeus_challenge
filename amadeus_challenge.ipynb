{
 "cells": [
  {
   "cell_type": "code",
   "execution_count": 1,
   "metadata": {},
   "outputs": [],
   "source": [
    "import pandas as pd"
   ]
  },
  {
   "cell_type": "code",
   "execution_count": 2,
   "metadata": {},
   "outputs": [
    {
     "name": "stdout",
     "output_type": "stream",
     "text": [
      "README.md               bookings.csv.bz2\r\n",
      "amadeus_challenge.ipynb searches.csv.bz2\r\n"
     ]
    }
   ],
   "source": [
    "!ls"
   ]
  },
  {
   "cell_type": "code",
   "execution_count": 3,
   "metadata": {},
   "outputs": [
    {
     "name": "stdout",
     "output_type": "stream",
     "text": [
      "BZh91AY&SY�6�_\u0006W�߀w�@\u0002�?�����`b�~T\u001e",
      "f\u0010�d\u0001@\t�)�j\u0014\u0001ёT\u0017��\u000b",
      "�sʀ\u001e",
      "�\t@�AѮ=��\u0005\u0004���;���H��\u0006\u0001Iw;3�o=�uք�o]w{5�v\u001d",
      "�{�}���wgn�ȷ�kϺ�9�a�ݧ�3{T�n�\u0000�\u0000\u0001���\u0000\u0000H��\u0001�\u0000\u0003T(\u0007�j(h�)@\u0014\u0014\u000f�\u0014�\u0014\u0002��\u0005\u0000\u0007���TSl�\u0000\u0000\u0000\u0000\u0000\u0000\u0014\u0000\u0000\u0003��+�ݨ5���b4\u0018�JR�IJ��@\u000b",
      "�{�\u0000\u001a\u001a\u0006�\u0006@\u0006�\u0000;�\u0001�\u00006`\u0001 \u0001 �\u0000\u0000\u0014\u0001����\u0002\u0000\u0000\u0000\u0000\u0000\u0000\u0000\u0000\u001e",
      "t\bJ`;0\u0000�\u0001�X\\�\u0000g`\u0000d\u00006�\u0000�\u0000\f",
      "�\u0000d\u0000l��*\u000e���g�\u0000\u0000;> \u0000\u0000\u0000\u0000\u0000\u0000\u0000\u0003�\u0000\u000e\r\n",
      "\u001c",
      "\u000f��Wj9��@r���\u0000\u0000\u0000\u0000\u0000\u0000\u00007`\u0000\u0017��\u0006�ܞ\u000f`\u0000\u0000\u0000\u0000\u0000\u0000\u0000\u0003\u0000\u001f\u0018\u0000:\u0000\u0000\u0000\u0000\u0000\u0000\u0003@\u0000\u0000\u0000\u0005�\u0000\u0017��Q�X��}\u0000\u0000\u0000\u0000\u0000\u0000\u0000\u0000\\\u0000\u0016\u0000\u0000\u0000\u0000\u0000\u0000\u0000\u0000\u0000\u0000\u0000\u0000\u0000\u0000\u0000�\u0005}\u0019��\u0000\u0000\u0000\u0000\u0000\u0000\u0000\u0000`\u0000Z\u0000\u0000\u0000\u0000\u0001@\u0000\u0000\u0000\u0000\u0000\u0000\u0000\u0000\u0000�\u0000\u0003��3΀\u0000\u0000\u0000\u0000\u0000\u0000\u0000\u0005�\u0001�\u0000\u0000\u0000\u0000\u0000\u0000\u0000\u0000\u0000\u0000\u0000\u0000\u0000\u0001u*��d\u0000\u0000\u0000\u0000\u0000\u0000\u0000\u0000\u000e\u0000\u0010\u0000\u0000\u0000\u0000\u0000\u0000\u0000\u0000\u0000\u0000\u0000\u0000\u0000\u0001iI\u0017;\u0011�\u0000\u0000\u0000\u0000\u0000\u0000\u0000\u0000>�\u0001�\u0000\u0000\u0000\u0000\u0000\u0000\u0000\u0000\u0000\u0000\u0000\u0000\u0000\u0002�(��>@\u0000\u0000\u0000\u0000\u0000\u0000\u0000\u000b",
      "�`\u0000\u0000\u0000\u0000\u0000\u0000\u0000\u0000\u0000\u0000\u0000\u0000\u0000\u0017!Dϳ=\u0000\u0000\u0000\u0000\u0000\u0000\u0000\u0000\\\u0017<\u0014\u0001�\u0000\b\u0000\u0000�\u0000\u0000\r\n",
      "\u0000\u0000\u0000\u0000\u0000\u0000\u0000\u0000\u0001>\u0007R��Y��n<E\u0000����y���uU�\u0018�u[%\u0003�\u001e",
      "{��\u001b\u0006�-z.�;^X��dI��`�z�\r\n",
      "�{�li����U(=n�t\"�\u0003^ci��vm]����/�>J�#�ʔ���@u�\u0010�7��\u001d",
      "ۆ�5V�-���\u0002��C{n�\r\n",
      "z�\u001e",
      "�[۝η\u0014�n�gem��㣶�\u0018�ݲ�vn�W����Ĝ�a��\"�Z�d�m޻��\u0015R��w\u001e",
      "������Vd�Nb��\u001c",
      "�:B�j=�\u00136��m�\u0014�{{��ڽh��d���q{Hw0����su�[V�aπ\u0001�ݷ�Ӣ�i%\u0013�\u0005J��\u0000\u0000\u0003�z%W�jx]��K,�Z\u0000\u0000\u0000\u0000\u0000\u0000\u0000\u0000\u0018\u001b�\r",
      "����@\u0006���\u0001��*�5@�b�Z\u0014ili��(:ѭ�'A�Th�(\u0000[w��y\u001d",
      "\u000e�\u000e���u�4m`\u0000;���5��\u0015�3\u0001�\u0003�@;�\r",
      "���R�׽}�����'���\b\r\n",
      "��\u0000\u0003�\u0001�\u0000\u0000\u0000\u0000\u0000\u0000\u0000\u0000\u0000\u0000\u0000\u0000\u0000\u0000\u0000\u0000\u0000\u0000\u0000\u0000\u0000H\u0000\u0000\u0000\u0000\u0000\u0000\u0000\u0000\u0000\u0000\u0000\u0000\u0000\u0000\u0000\u0000\u0000\u0000\u0000\u0000\u0000\u0000\u0000\u0000\u0000\u0000\u0000\u0000\u0000\u0000\u0000\u0000\u0000\u0000\u0000\u0000\u0000\u0000\u0000\u0000\u0000\u0000\u0000\u0000\u0000\u0000\u0000\u0000\u0000\u0000\u0000\u0000\u0000\u0000\u0000\u0000\u0000\u0000\u0000\u0000\u0000\u0000\u0000\u0000\u0000\u0000\u0000\u0000\u0000\u0000\u0000\u0000\u0000\u0000\u0000\u0000\u0000\u0000\u0000\u0000\u0000\u0000\u0000\u0000\u0000\u0000\u0000\u0000\u0000\u0000\u0000\u0000\u0000\u0000\u0000\u0000\u0000\u0000\u0000\u0000\u0000\u0000\u0000\u0000\u0000\u0000\u0000\u0000\u0000\u0000\b\t\u0011\u0002h\u0013@�$M&\u0011\u000fSM@\u0000\u001a\u0019\u0004��\u0002�\u0011�\u0003 �A�\u0000\u0000\u0000\u0000$\tD��H��\u0013�Ҟ��Oj#L�#CA�\u0010�H�\u0004\b\u0015=SySF��\f",
      "\u0001\u0000\u0001JD�@\u0002\u0011$ѐ�dmH=@\u0000\u0000�@\u0002\u0004�DI��(\r",
      "\u001az�P\u0000\u0003M\u001e",
      "\u000f�����<�\u0017���l�Q?�1P�`���\u001b[�\u0015є\u0012\u0010\u00024G��3'��B_݆�\u0003W�jH������$�O��<\f",
      "�O�?ݝ��X�r�\u0013h9h\bq�BHт\\\f",
      "@�>�?����P՞�.ޘ�5a���\u0003o\u000ffU�\u0004?_�\u001f[G\u001f�?�M��\u0010,�k��J���IW�����G�84d4j�_=IC�V\u001b~��\u0011R���j�I~���/���Vr\f",
      "m\u001e",
      "i\u0014�H�\u0011��C%��\u001f�u˿\u001c",
      "�z��#�\u000e��.AZA�_�}�|%���\u0014\"\u0017�p�$�\u001e",
      "=����lr��\u00064�:e�\u001fX�92�0_�T�����q��\\��@\u0007f%�/�s?>��]h��͌\u0012\u001bFv�Y���x�ݝ�j@\u0015��\u001f���\u0015i6��}�E�\r\n",
      "���v��\u0011��;�W�}�\u000b",
      "[\u00110@��b��\u0017<S�;�%���u�z ]\f",
      "::�k��_�=9W�\u0018�廩ɢf\u001d",
      "�����jǆ>\u0019/�HQHv������g����w\u0006*�&2�\u001f�M�N�[X�o��s�?�:\u0018�X�I�tv4�����ř�D�6���˿���a�\"\u001aH4�!Q�y\u001a\u00016�e��V�m%�4LH޼������F.\u001a�3\u0014zc\\j^\f",
      "\u000f&\u0011�zS95w�n��ի�=\u001c",
      "�}/-*3Y4���v�)r�pA�\u0005R�\u0014-��\u000eo\bf�\u0011�X�(��\u0002��,а�v*���\u001bh\u0013̑�uS��$�ڰ���\u0015�>�\u001c",
      "I���fUE�h7.\u0015�\u0002��\bښ�Лjy�x\u0019��b��T*���\u0016�\u0014���E)��\u000b",
      "iD,TI��Th��'%�9\u0019�d�\u0019(j�@`�Z�Q<�ov�D2\u001c",
      "P�YE\r",
      "�D���Xd�\u0019ƴ\tC�\r\n",
      "\u001e",
      "�\u0012\u001b(:�P��\u0014��D�5�R1Q�9\u0018�\u0018��+\u0001�Lt���p��7��6����Sa�\u001a\u001f&���/\u0001�R%F\u0014�jQR�X k�K�\u0019�IHEQSo�44L���F��ɒ��i�����;��R1+��hc l愬Qv�!W�\u001c",
      "�K��B��9\u000b",
      "\u001c",
      "2,A\t�0��\u0005\u0005h\"�at4K9e\u0015V��MTkԑ��\u0011&����n�Q{ �I���8&\u0012P���k�\u0015F,A �x��(k�\u0010h�'���I�>�\f",
      "f��)0S\t��vi��\u0016T\u000e�\u0003-\"خ��3`��*\u0006eQ\r",
      "6I\u001d",
      "�\u0005nȵ�(W�\u001bTR{2e*�4\u0017\u0003.�L! ��ibƍ>\u0019Sf�#FƏ��\u001b������,X6n[0ӆ��\u0002\"T�\u00148��\u0010(D��\u0006�\r",
      "\r",
      "�4�M\u0018��V,��baV0��f6N\u0003��E�,a��o\u0018\u001aG\u0006\r",
      "\u0006\u0017t8���\txDc\u0000A#\u0004�\u001d",
      "�d�\r",
      "���\u00180\u0018\f",
      "e�8�f\r",
      "�h�N\u001bXa�f�`D��\u0019\u001e",
      "\u001c",
      "8��b�\b�C\f",
      "�J�\f",
      "\u00191\u0007\u001690a\\�KA�\u0019PD\u0004D$bPd\u0018\u0010�!A�\u0006H#�i\u000e+\t�R\b�#\u0019I`�\u001c",
      "�\u0002p\u00190� S�8�0p�F$8\u0010���\r",
      "��\u0018Z�0[\u0018ݪ�u���.p�4\u0018�&\u0018��\u0011�,��\u0012+���\u001e",
      "�����y�\u0006b�\u0019\u001fW��y+\u001f�:I��Wd�\u0013�xK�Bw\u0011�\\����0\u001e",
      "v\u001f������%|\u001e",
      "�Lc�<�2��C�v���z�����\f",
      "p���ы\u0006�\u0011�:��r<��>�r/���S��W��h���'ړK��?Wb�\u0016���\u0017y0*ڱSGu���|T}���\u000f��H�U^}N���5V��i���MjG�ܼ>BŔ����\u000f�s\u0018X̯�4\u0007E��=)�-\u001aX��\u001a��,cS&(�6m���V��Ѧ��e����8N)�%%\"b_h���ٺ�m\u0003\f",
      "#[�j�E-��m\u001b8x\u001fJ?\u0017�]��/�_g7!�\u0017�\u0013\u0015�\u0016Yb,W�����E�~ӆL^u=U{�:�C�'�\u000e'��\bd��Tȟ\u0005\u0013\u0013\u0010\u0019�!\"\u001e",
      "\u0001�\u0001?������\u0003�8%�4`a�6�>+�w�y'��c��_���<����Ի\u000f��~]Qp>G{s��q�9���6u9ϣG�%8����\u0002u}^I@p1��׷�,Y��ٷ9�-&�#NM�1ɮ�['\u0017\u001a8�0`c�r\u000f�>�%�\u0011��\u0019Yfd\u000e�FU���9�D~��b�9)�\u001d",
      "iOJ���5Qz��+��Ҷ�\u001a3xk66�G�a�����޻�G���\u000e��\u001a�\r",
      "\u001f\u0016\u001e",
      "\u0017\f",
      "��ً��\u000e�\u0000}=x)\u0011��ch��\u0001AP��Z.M\u000f��-\u0019�����\u001d",
      "�\u0010�̂�\"�\u0007��\u000f��/\u0005��b�&�N�:��'\u0004�\u0018��\u0013�X�@<%x\u0012�\f",
      "e\u000e\u0012�\u0006\u0011Ħ3y\u00103G\"�2D�\u0002\u0013�ᇗKl+�]D\f",
      "\f",
      "\u001f�? ���c\u0015^�\u0003���k\u0010�_!�_\u0007�\u0019\u000fgAa\u001b�l�`%��+�E\u001a(��0{\u0018z9j���1����߃j�/+�Yad[/�_\u0005�\u000f��}Ry/5T�Wt�'��Ne<�Nk�r/�=��X\u0019�^.�L�=*FZl\r",
      "Pv5\u0016�L<d�t0a�&!.�G �\u001fFN�(q\u0019Կ�\"U�A\u001f�\u0005���0i?�Y'�\u0014D\u0016e+\u0018����RJM�t�\u0011��g�\u0013�V��ĲHLť�Ɍ��ii�R��\u001c",
      "\u000eKܾ\u0007�K��9��v�u��jִ�C(O�}�\u000e���f\u001a>�FXz\u0013��|\f",
      "񅙻j�\u0005�\u0018B\u0010�/�z%>�tp��N�}<�P�XH ���X���\\Uc\u0006b}�'P�S��x\u001c",
      "�ҡ����\u000b",
      "t�\u0014>f�������\u0017����I�R}�w�\\#�v=�}���\u000eCeݒ/��\u0019���\b�\"���3��\u000e��LV�깍\u0017��U���\u0018f+ȫ�\\����>�����}��\u0017�UȻ�r�G�Q槪`ʲd��_r�)�a�wJ}#lS\u0016\u001b=a}&��֓�\u0013�\u0013�wK\u0006\u0000�d�Ѝ��mʛ�6�\u0006��YX!�\u000e�\u0019_�ِ�\u0017`��\t����Bs�j�V�\f",
      "�\u001f\f",
      "ik(��\u0004J\u001e",
      "\u0015'������յ�p ?�}�O�a,�,�\u0011\u0010\u0011\u0004F\"\u001c",
      "\u0010a�\u0010`a�b\u0007,\u0005\u0012ef\u001d",
      "���\u0005f\u0015ɤ\u000b",
      "+���\u000e\b`�F\t`%\ta�Y5�Z�8�1��rN��}�C\u000b",
      "�U�=Ի\u0011���|�f\u0019f2�\"%)P�FFa�\u0010��+\u0018�0d>��\u0007��\u0018�w^�.��O�\u0005��a>\r",
      "�\u0012�H���8X�:��j���f\u0017�}���}\u001e",
      "�G&c0?\b�c���e;�w�x\u001f�a�'�^���1>K��^�\u001e",
      "�\u001a��a�c\r",
      "YwWX�\u0004�/\u0000}\u0002�h0��b \u0017\t�\"\u0018�n�\r",
      "��;[k��|1�N�����0ąf�\u0002>H0F0\u0018�\u0010\u0007D�佯�\u0005�9�!�Ha\u0018�\u000e��L��̸\\����9\u000eF3\u0015eb�/�W��U��\u000f�|&�\\�;�\u001a�\u0018�����\u001c",
      "VfYb���\r",
      "�;��:���i�Q�e]WU�W��]�ʗ3�8��i��|\"��&�\u0017��w\u00109\u0010�\r",
      "#�C�G񕞍\u0013�>+�\u001fI]iᙗ*O�1�L��7Լ��X�ݔ�9�@�\u001f\u000b",
      "�ZT�\\���\u0018��`b�D�\t�i�\u001fa�\u0010<O&Z^�v��;=��^s���/y����\u0003k�E\u0005\"&�r\u0014\r\n",
      "\b���)n�߮�ֹ�P�-V��\u0016SYYY�2\r",
      "��k-e��=\u001e",
      "\\<����i\u0019k/cXmj�e����y���\u000b",
      "����W�5l*a\u0017�[��X��c.Γ�)�e�׍���m�e�)NL����Bce{� �4N fU4�O\u0016$�\u0005��[���P܌�ݓVvuh\u000b",
      ";\u0003R5\u0003,����\u0002�+��鸖������hm7�?\u000b",
      "��\u000f��/U�ͦ\u0018\u001d",
      "e\u0018�Q�3@���e��<#OJb �\"��\u0018�KM�d=$�.r�k���\b\u0016�ص\u0012��\u0002��+\r\n",
      "Ћ5a��Ʌ�,\u0018\u0018�\u00102\u0006\u00102\u0006@vC���`]�[e��;���\u001f(��Z$�\u0014T�\f",
      "i�:5�+�p�q\u000b",
      "`\u001d",
      "\u000b",
      "�`���[���\u0017E�.�\u0017R��3/\r",
      "`f\u001e",
      "\u0007���}\u001b�A�Y�:�N���B���\u001d",
      "�\r",
      "[��ʗ��i\u0019p���Zɪz3Q�\u001e",
      "��5k/W\u000e�Te�e\u001a�\u000e��\u0002�ҧ\u0011�\u0007�̑)ފ�\u0012��:\f",
      "�T\\=\u0005�\u001f.\u001d",
      "�g���\"��L5���?�\u000e\u001a\\�~P}�B�\"\u0018һj@�\"�Scϥp�0X�\u0005%F�j���.B�h4P\u0007F)\u0019D�P{\u0019�n\u000b",
      "ޫt\u001e",
      "ѲȲ�i�C0oڪ]\u0014%)ʘJZ�\r\n"
     ]
    }
   ],
   "source": [
    "!head bookings.csv.bz2"
   ]
  },
  {
   "cell_type": "code",
   "execution_count": 4,
   "metadata": {},
   "outputs": [
    {
     "ename": "ParserError",
     "evalue": "Error tokenizing data. C error: Expected 1 fields in line 5000009, saw 2\n",
     "output_type": "error",
     "traceback": [
      "\u001b[0;31m---------------------------------------------------------------------------\u001b[0m",
      "\u001b[0;31mParserError\u001b[0m                               Traceback (most recent call last)",
      "\u001b[0;32m<ipython-input-4-74970daa1797>\u001b[0m in \u001b[0;36m<module>\u001b[0;34m\u001b[0m\n\u001b[0;32m----> 1\u001b[0;31m \u001b[0mdf_bookings\u001b[0m \u001b[0;34m=\u001b[0m \u001b[0mpd\u001b[0m\u001b[0;34m.\u001b[0m\u001b[0mread_csv\u001b[0m\u001b[0;34m(\u001b[0m\u001b[0;34m'bookings.csv.bz2'\u001b[0m\u001b[0;34m,\u001b[0m \u001b[0mcompression\u001b[0m\u001b[0;34m=\u001b[0m\u001b[0;34m'bz2'\u001b[0m\u001b[0;34m)\u001b[0m\u001b[0;34m\u001b[0m\u001b[0;34m\u001b[0m\u001b[0m\n\u001b[0m",
      "\u001b[0;32m/anaconda3/lib/python3.7/site-packages/pandas/io/parsers.py\u001b[0m in \u001b[0;36mparser_f\u001b[0;34m(filepath_or_buffer, sep, delimiter, header, names, index_col, usecols, squeeze, prefix, mangle_dupe_cols, dtype, engine, converters, true_values, false_values, skipinitialspace, skiprows, skipfooter, nrows, na_values, keep_default_na, na_filter, verbose, skip_blank_lines, parse_dates, infer_datetime_format, keep_date_col, date_parser, dayfirst, cache_dates, iterator, chunksize, compression, thousands, decimal, lineterminator, quotechar, quoting, doublequote, escapechar, comment, encoding, dialect, error_bad_lines, warn_bad_lines, delim_whitespace, low_memory, memory_map, float_precision)\u001b[0m\n\u001b[1;32m    683\u001b[0m         )\n\u001b[1;32m    684\u001b[0m \u001b[0;34m\u001b[0m\u001b[0m\n\u001b[0;32m--> 685\u001b[0;31m         \u001b[0;32mreturn\u001b[0m \u001b[0m_read\u001b[0m\u001b[0;34m(\u001b[0m\u001b[0mfilepath_or_buffer\u001b[0m\u001b[0;34m,\u001b[0m \u001b[0mkwds\u001b[0m\u001b[0;34m)\u001b[0m\u001b[0;34m\u001b[0m\u001b[0;34m\u001b[0m\u001b[0m\n\u001b[0m\u001b[1;32m    686\u001b[0m \u001b[0;34m\u001b[0m\u001b[0m\n\u001b[1;32m    687\u001b[0m     \u001b[0mparser_f\u001b[0m\u001b[0;34m.\u001b[0m\u001b[0m__name__\u001b[0m \u001b[0;34m=\u001b[0m \u001b[0mname\u001b[0m\u001b[0;34m\u001b[0m\u001b[0;34m\u001b[0m\u001b[0m\n",
      "\u001b[0;32m/anaconda3/lib/python3.7/site-packages/pandas/io/parsers.py\u001b[0m in \u001b[0;36m_read\u001b[0;34m(filepath_or_buffer, kwds)\u001b[0m\n\u001b[1;32m    461\u001b[0m \u001b[0;34m\u001b[0m\u001b[0m\n\u001b[1;32m    462\u001b[0m     \u001b[0;32mtry\u001b[0m\u001b[0;34m:\u001b[0m\u001b[0;34m\u001b[0m\u001b[0;34m\u001b[0m\u001b[0m\n\u001b[0;32m--> 463\u001b[0;31m         \u001b[0mdata\u001b[0m \u001b[0;34m=\u001b[0m \u001b[0mparser\u001b[0m\u001b[0;34m.\u001b[0m\u001b[0mread\u001b[0m\u001b[0;34m(\u001b[0m\u001b[0mnrows\u001b[0m\u001b[0;34m)\u001b[0m\u001b[0;34m\u001b[0m\u001b[0;34m\u001b[0m\u001b[0m\n\u001b[0m\u001b[1;32m    464\u001b[0m     \u001b[0;32mfinally\u001b[0m\u001b[0;34m:\u001b[0m\u001b[0;34m\u001b[0m\u001b[0;34m\u001b[0m\u001b[0m\n\u001b[1;32m    465\u001b[0m         \u001b[0mparser\u001b[0m\u001b[0;34m.\u001b[0m\u001b[0mclose\u001b[0m\u001b[0;34m(\u001b[0m\u001b[0;34m)\u001b[0m\u001b[0;34m\u001b[0m\u001b[0;34m\u001b[0m\u001b[0m\n",
      "\u001b[0;32m/anaconda3/lib/python3.7/site-packages/pandas/io/parsers.py\u001b[0m in \u001b[0;36mread\u001b[0;34m(self, nrows)\u001b[0m\n\u001b[1;32m   1152\u001b[0m     \u001b[0;32mdef\u001b[0m \u001b[0mread\u001b[0m\u001b[0;34m(\u001b[0m\u001b[0mself\u001b[0m\u001b[0;34m,\u001b[0m \u001b[0mnrows\u001b[0m\u001b[0;34m=\u001b[0m\u001b[0;32mNone\u001b[0m\u001b[0;34m)\u001b[0m\u001b[0;34m:\u001b[0m\u001b[0;34m\u001b[0m\u001b[0;34m\u001b[0m\u001b[0m\n\u001b[1;32m   1153\u001b[0m         \u001b[0mnrows\u001b[0m \u001b[0;34m=\u001b[0m \u001b[0m_validate_integer\u001b[0m\u001b[0;34m(\u001b[0m\u001b[0;34m\"nrows\"\u001b[0m\u001b[0;34m,\u001b[0m \u001b[0mnrows\u001b[0m\u001b[0;34m)\u001b[0m\u001b[0;34m\u001b[0m\u001b[0;34m\u001b[0m\u001b[0m\n\u001b[0;32m-> 1154\u001b[0;31m         \u001b[0mret\u001b[0m \u001b[0;34m=\u001b[0m \u001b[0mself\u001b[0m\u001b[0;34m.\u001b[0m\u001b[0m_engine\u001b[0m\u001b[0;34m.\u001b[0m\u001b[0mread\u001b[0m\u001b[0;34m(\u001b[0m\u001b[0mnrows\u001b[0m\u001b[0;34m)\u001b[0m\u001b[0;34m\u001b[0m\u001b[0;34m\u001b[0m\u001b[0m\n\u001b[0m\u001b[1;32m   1155\u001b[0m \u001b[0;34m\u001b[0m\u001b[0m\n\u001b[1;32m   1156\u001b[0m         \u001b[0;31m# May alter columns / col_dict\u001b[0m\u001b[0;34m\u001b[0m\u001b[0;34m\u001b[0m\u001b[0;34m\u001b[0m\u001b[0m\n",
      "\u001b[0;32m/anaconda3/lib/python3.7/site-packages/pandas/io/parsers.py\u001b[0m in \u001b[0;36mread\u001b[0;34m(self, nrows)\u001b[0m\n\u001b[1;32m   2057\u001b[0m     \u001b[0;32mdef\u001b[0m \u001b[0mread\u001b[0m\u001b[0;34m(\u001b[0m\u001b[0mself\u001b[0m\u001b[0;34m,\u001b[0m \u001b[0mnrows\u001b[0m\u001b[0;34m=\u001b[0m\u001b[0;32mNone\u001b[0m\u001b[0;34m)\u001b[0m\u001b[0;34m:\u001b[0m\u001b[0;34m\u001b[0m\u001b[0;34m\u001b[0m\u001b[0m\n\u001b[1;32m   2058\u001b[0m         \u001b[0;32mtry\u001b[0m\u001b[0;34m:\u001b[0m\u001b[0;34m\u001b[0m\u001b[0;34m\u001b[0m\u001b[0m\n\u001b[0;32m-> 2059\u001b[0;31m             \u001b[0mdata\u001b[0m \u001b[0;34m=\u001b[0m \u001b[0mself\u001b[0m\u001b[0;34m.\u001b[0m\u001b[0m_reader\u001b[0m\u001b[0;34m.\u001b[0m\u001b[0mread\u001b[0m\u001b[0;34m(\u001b[0m\u001b[0mnrows\u001b[0m\u001b[0;34m)\u001b[0m\u001b[0;34m\u001b[0m\u001b[0;34m\u001b[0m\u001b[0m\n\u001b[0m\u001b[1;32m   2060\u001b[0m         \u001b[0;32mexcept\u001b[0m \u001b[0mStopIteration\u001b[0m\u001b[0;34m:\u001b[0m\u001b[0;34m\u001b[0m\u001b[0;34m\u001b[0m\u001b[0m\n\u001b[1;32m   2061\u001b[0m             \u001b[0;32mif\u001b[0m \u001b[0mself\u001b[0m\u001b[0;34m.\u001b[0m\u001b[0m_first_chunk\u001b[0m\u001b[0;34m:\u001b[0m\u001b[0;34m\u001b[0m\u001b[0;34m\u001b[0m\u001b[0m\n",
      "\u001b[0;32mpandas/_libs/parsers.pyx\u001b[0m in \u001b[0;36mpandas._libs.parsers.TextReader.read\u001b[0;34m()\u001b[0m\n",
      "\u001b[0;32mpandas/_libs/parsers.pyx\u001b[0m in \u001b[0;36mpandas._libs.parsers.TextReader._read_low_memory\u001b[0;34m()\u001b[0m\n",
      "\u001b[0;32mpandas/_libs/parsers.pyx\u001b[0m in \u001b[0;36mpandas._libs.parsers.TextReader._read_rows\u001b[0;34m()\u001b[0m\n",
      "\u001b[0;32mpandas/_libs/parsers.pyx\u001b[0m in \u001b[0;36mpandas._libs.parsers.TextReader._tokenize_rows\u001b[0;34m()\u001b[0m\n",
      "\u001b[0;32mpandas/_libs/parsers.pyx\u001b[0m in \u001b[0;36mpandas._libs.parsers.raise_parser_error\u001b[0;34m()\u001b[0m\n",
      "\u001b[0;31mParserError\u001b[0m: Error tokenizing data. C error: Expected 1 fields in line 5000009, saw 2\n"
     ]
    }
   ],
   "source": [
    "df_bookings = pd.read_csv('bookings.csv.bz2', compression='bz2')"
   ]
  },
  {
   "cell_type": "code",
   "execution_count": null,
   "metadata": {},
   "outputs": [],
   "source": []
  }
 ],
 "metadata": {
  "kernelspec": {
   "display_name": "Python 3",
   "language": "python",
   "name": "python3"
  },
  "language_info": {
   "codemirror_mode": {
    "name": "ipython",
    "version": 3
   },
   "file_extension": ".py",
   "mimetype": "text/x-python",
   "name": "python",
   "nbconvert_exporter": "python",
   "pygments_lexer": "ipython3",
   "version": "3.7.4"
  }
 },
 "nbformat": 4,
 "nbformat_minor": 2
}
